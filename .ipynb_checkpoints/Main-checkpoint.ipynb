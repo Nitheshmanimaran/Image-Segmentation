{
 "cells": [
  {
   "cell_type": "code",
   "execution_count": 2,
   "metadata": {},
   "outputs": [],
   "source": [
    "import numpy as np\n",
    "import pandas as pd\n",
    "import matplotlib.pyplot as plt\n",
    "from PIL import Image\n",
    "import tensorflow as tf\n",
    "import os\n",
    "from tqdm import tqdm\n",
    "import warnings\n",
    "import seaborn as sns"
   ]
  },
  {
   "cell_type": "code",
   "execution_count": 3,
   "metadata": {},
   "outputs": [],
   "source": [
    "warnings.filterwarnings(\"ignore\")\n",
    "plt.style.use(\"seaborn-darkgrid\")\n",
    "sns.set_context(\"paper\", font_scale=1.4)\n",
    "BATCH_SIZE = 32"
   ]
  },
  {
   "cell_type": "code",
   "execution_count": 4,
   "metadata": {},
   "outputs": [],
   "source": [
    "id_map = {\n",
    "    0: (0, 0, 0), # unlabelled\n",
    "    1: (111, 74,  0), #static\n",
    "    2: ( 81,  0, 81), #ground\n",
    "    3: (128, 64,127), #road\n",
    "    4: (244, 35,232), #sidewalk\n",
    "    5: (250,170,160), #parking\n",
    "    6: (230,150,140), #rail track\n",
    "    7: (70, 70, 70), #building\n",
    "    8: (102,102,156), #wall\n",
    "    9: (190,153,153), #fence\n",
    "    10: (180,165,180), #guard rail\n",
    "    11: (150,100,100), #bridge\n",
    "    12: (150,120, 90), #tunnel\n",
    "    13: (153,153,153), #pole\n",
    "    14: (153,153,153), #polegroup\n",
    "    15: (250,170, 30), #traffic light\n",
    "    16: (220,220,  0), #traffic sign\n",
    "    17: (107,142, 35), #vegetation\n",
    "    18: (152,251,152), #terrain\n",
    "    19: ( 70,130,180), #sky\n",
    "    20: (220, 20, 60), #person\n",
    "    21: (255,  0,  0), #rider\n",
    "    22: (  0,  0,142), #car\n",
    "    23: (  0,  0, 70), #truck\n",
    "    24: (  0, 60,100), #bus\n",
    "    25: (  0,  0, 90), #caravan\n",
    "    26: (  0,  0,110), #trailer\n",
    "    27: (  0, 80,100), #train\n",
    "    28: (  0,  0,230), #motorcycle\n",
    "    29: (119, 11, 32), #bicycle\n",
    "    30: (  0,  0,142) #license plate \n",
    "}"
   ]
  },
  {
   "cell_type": "code",
   "execution_count": 5,
   "metadata": {},
   "outputs": [],
   "source": [
    "category_map = {\n",
    "    0: 0,\n",
    "    1: 0,\n",
    "    2: 0,\n",
    "    3: 1,\n",
    "    4: 1,\n",
    "    5: 1,\n",
    "    6: 1,\n",
    "    7: 2,\n",
    "    8: 2,\n",
    "    9: 2,\n",
    "    10: 2,\n",
    "    11: 2,\n",
    "    12: 2,\n",
    "    13: 3,\n",
    "    14: 3,\n",
    "    15: 3,\n",
    "    16: 3,\n",
    "    17: 4,\n",
    "    18: 4,\n",
    "    19: 5,\n",
    "    20: 6,\n",
    "    21: 6,\n",
    "    22: 7,\n",
    "    23: 7,\n",
    "    24: 7,\n",
    "    25: 7,\n",
    "    26: 7,\n",
    "    27: 7,\n",
    "    28: 7,\n",
    "    29: 7,\n",
    "    30: 7\n",
    "}"
   ]
  },
  {
   "cell_type": "code",
   "execution_count": 6,
   "metadata": {},
   "outputs": [],
   "source": [
    "num_classes = len(id_map.keys())"
   ]
  },
  {
   "cell_type": "code",
   "execution_count": 7,
   "metadata": {},
   "outputs": [],
   "source": [
    "def preprocess(path):\n",
    "    img = Image.open(path)\n",
    "    img1 = img.crop((0, 0, 256, 256)).resize((128, 128))\n",
    "    img2 = img.crop((256, 0, 512, 256)).resize((128, 128))\n",
    "    img1 = np.array(img1) / 255.\n",
    "    img2 = np.array(img2)\n",
    "    mask = np.zeros(shape=(img2.shape[0], img2.shape[1]), dtype = np.uint8)\n",
    "    for row in range(img2.shape[0]):\n",
    "        for col in range(img2.shape[1]):\n",
    "            a = img2[row, col, :]\n",
    "            final_key = None\n",
    "            final_d = None\n",
    "            for key, value in id_map.items():\n",
    "                d = np.sum(np.sqrt(pow(a - value, 2)))\n",
    "                if final_key == None:\n",
    "                    final_d = d\n",
    "                    final_key = key\n",
    "                elif d < final_d:\n",
    "                    final_d = d\n",
    "                    final_key = key\n",
    "            if final_key == 20 or final_key == 22: # 20 is the key for person, 22 is the key for car\n",
    "                mask[row, col] = 1\n",
    "    mask = np.reshape(mask, (mask.shape[0], mask.shape[1], 1))\n",
    "    del img2\n",
    "    return img1, mask\n"
   ]
  },
  {
   "cell_type": "code",
   "execution_count": 8,
   "metadata": {},
   "outputs": [],
   "source": [
    "def prepare_tensor_dataset(train_path, val_path):\n",
    "    X_train = []\n",
    "    Y_train = []\n",
    "    X_val = []\n",
    "    Y_val = []\n",
    "    for file in tqdm(os.listdir(train_path)):\n",
    "        img, mask = preprocess(f\"{train_path}/{file}\")\n",
    "        X_train.append(img)\n",
    "        Y_train.append(mask)\n",
    "    \n",
    "    for file in tqdm(os.listdir(val_path)):\n",
    "        img, mask = preprocess(f\"{val_path}/{file}\")\n",
    "        X_val.append(img)\n",
    "        Y_val.append(mask)\n",
    "\n",
    "    return X_train, Y_train, X_val, Y_val"
   ]
  },
  {
   "cell_type": "code",
   "execution_count": 9,
   "metadata": {},
   "outputs": [],
   "source": [
    "TRAIN_PATH = 'D:/EPITA/Computer Vision/Project_3/dataset/cityscapes_data/train'\n",
    "VAL_PATH = 'D:/EPITA/Computer Vision/Project_3/dataset/cityscapes_data/val'"
   ]
  },
  {
   "cell_type": "code",
   "execution_count": 10,
   "metadata": {},
   "outputs": [
    {
     "name": "stderr",
     "output_type": "stream",
     "text": [
      "  0%|          | 11/2975 [00:47<3:32:34,  4.30s/it]\n"
     ]
    },
    {
     "ename": "KeyboardInterrupt",
     "evalue": "",
     "output_type": "error",
     "traceback": [
      "\u001b[1;31m---------------------------------------------------------------------------\u001b[0m",
      "\u001b[1;31mKeyboardInterrupt\u001b[0m                         Traceback (most recent call last)",
      "Cell \u001b[1;32mIn [10], line 1\u001b[0m\n\u001b[1;32m----> 1\u001b[0m X_train, Y_train, X_valid, Y_valid \u001b[39m=\u001b[39m prepare_tensor_dataset(TRAIN_PATH, VAL_PATH)\n",
      "Cell \u001b[1;32mIn [8], line 7\u001b[0m, in \u001b[0;36mprepare_tensor_dataset\u001b[1;34m(train_path, val_path)\u001b[0m\n\u001b[0;32m      5\u001b[0m Y_val \u001b[39m=\u001b[39m []\n\u001b[0;32m      6\u001b[0m \u001b[39mfor\u001b[39;00m file \u001b[39min\u001b[39;00m tqdm(os\u001b[39m.\u001b[39mlistdir(train_path)):\n\u001b[1;32m----> 7\u001b[0m     img, mask \u001b[39m=\u001b[39m preprocess(\u001b[39mf\u001b[39;49m\u001b[39m\"\u001b[39;49m\u001b[39m{\u001b[39;49;00mtrain_path\u001b[39m}\u001b[39;49;00m\u001b[39m/\u001b[39;49m\u001b[39m{\u001b[39;49;00mfile\u001b[39m}\u001b[39;49;00m\u001b[39m\"\u001b[39;49m)\n\u001b[0;32m      8\u001b[0m     X_train\u001b[39m.\u001b[39mappend(img)\n\u001b[0;32m      9\u001b[0m     Y_train\u001b[39m.\u001b[39mappend(mask)\n",
      "Cell \u001b[1;32mIn [7], line 14\u001b[0m, in \u001b[0;36mpreprocess\u001b[1;34m(path)\u001b[0m\n\u001b[0;32m     12\u001b[0m final_d \u001b[39m=\u001b[39m \u001b[39mNone\u001b[39;00m\n\u001b[0;32m     13\u001b[0m \u001b[39mfor\u001b[39;00m key, value \u001b[39min\u001b[39;00m id_map\u001b[39m.\u001b[39mitems():\n\u001b[1;32m---> 14\u001b[0m     d \u001b[39m=\u001b[39m np\u001b[39m.\u001b[39msum(np\u001b[39m.\u001b[39msqrt(\u001b[39mpow\u001b[39;49m(a \u001b[39m-\u001b[39;49m value, \u001b[39m2\u001b[39;49m)))\n\u001b[0;32m     15\u001b[0m     \u001b[39mif\u001b[39;00m final_key \u001b[39m==\u001b[39m \u001b[39mNone\u001b[39;00m:\n\u001b[0;32m     16\u001b[0m         final_d \u001b[39m=\u001b[39m d\n",
      "\u001b[1;31mKeyboardInterrupt\u001b[0m: "
     ]
    }
   ],
   "source": [
    "X_train, Y_train, X_valid, Y_valid = prepare_tensor_dataset(TRAIN_PATH, VAL_PATH)"
   ]
  },
  {
   "cell_type": "code",
   "execution_count": 1,
   "metadata": {},
   "outputs": [
    {
     "ename": "NameError",
     "evalue": "name 'X_train' is not defined",
     "output_type": "error",
     "traceback": [
      "\u001b[1;31m------------------------------------------------------------------\u001b[0m",
      "\u001b[1;31mNameError\u001b[0m                        Traceback (most recent call last)",
      "Cell \u001b[1;32mIn [1], line 1\u001b[0m\n\u001b[1;32m----> 1\u001b[0m \u001b[43mX_train\u001b[49m\n",
      "\u001b[1;31mNameError\u001b[0m: name 'X_train' is not defined"
     ]
    }
   ],
   "source": []
  },
  {
   "cell_type": "code",
   "execution_count": null,
   "metadata": {},
   "outputs": [],
   "source": []
  }
 ],
 "metadata": {
  "kernelspec": {
   "display_name": "Python 3 (ipykernel)",
   "language": "python",
   "name": "python3"
  },
  "language_info": {
   "codemirror_mode": {
    "name": "ipython",
    "version": 3
   },
   "file_extension": ".py",
   "mimetype": "text/x-python",
   "name": "python",
   "nbconvert_exporter": "python",
   "pygments_lexer": "ipython3",
   "version": "3.10.8"
  },
  "vscode": {
   "interpreter": {
    "hash": "66f7e79fea8e8fd5a5188cf1932b28c9f36338f193f6d39b27cf266f2be62259"
   }
  }
 },
 "nbformat": 4,
 "nbformat_minor": 2
}
